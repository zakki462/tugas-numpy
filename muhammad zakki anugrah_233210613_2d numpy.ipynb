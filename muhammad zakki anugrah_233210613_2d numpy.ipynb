{
 "cells": [
  {
   "cell_type": "code",
   "execution_count": 1,
   "metadata": {},
   "outputs": [
    {
     "name": "stdout",
     "output_type": "stream",
     "text": [
      "[[ 0 48]\n",
      " [ 0 24]\n",
      " [ 0 30]]\n"
     ]
    }
   ],
   "source": [
    "# Perkalian Matrix\n",
    "# TTL   : 08 april 2005 \n",
    "# No Hp : 082285061626\n",
    "\n",
    "import numpy as np\n",
    "\n",
    "A = np.array([[0,8],[0,4],[0,5]])\n",
    "B = np.array([[0,6],[1,6],[2,6]])\n",
    "\n",
    "kali = A * B\n",
    "print(kali)\n"
   ]
  },
  {
   "cell_type": "code",
   "execution_count": 2,
   "metadata": {},
   "outputs": [
    {
     "name": "stdout",
     "output_type": "stream",
     "text": [
      "[[ 0  2]\n",
      " [-1 -2]\n",
      " [-2 -1]]\n"
     ]
    }
   ],
   "source": [
    "# Pengurangan Matrix\n",
    "\n",
    "import numpy as np\n",
    "\n",
    "A = np.array([[0,8],[0,4],[0,5]])\n",
    "B = np.array([[0,6],[1,6],[2,6]])\n",
    "\n",
    "kurang = A - B\n",
    "print(kurang)"
   ]
  },
  {
   "cell_type": "code",
   "execution_count": 14,
   "metadata": {},
   "outputs": [
    {
     "name": "stdout",
     "output_type": "stream",
     "text": [
      "\n",
      "Invers matrix A :\n",
      "\n",
      "Invers matrix B :\n",
      "[[-0.75   1.   ]\n",
      " [ 0.125  0.   ]]\n",
      "[[-1.          1.        ]\n",
      " [ 0.33333333 -0.16666667]]\n"
     ]
    }
   ],
   "source": [
    "# Nilai Invers\n",
    "\n",
    "import numpy as np\n",
    "\n",
    "A = np.array([[0,8],[1,6]])\n",
    "B = np.array([[1,6],[2,6]])\n",
    "\n",
    "\n",
    "invers_A = np.linalg.inv(A)\n",
    "invers_B = np.linalg.inv(B)\n",
    "\n",
    "print(\"\\nInvers matrix A :\")\n",
    "print(\"\\nInvers matrix B :\")\n",
    "print(invers_A)\n",
    "print(invers_B)"
   ]
  },
  {
   "cell_type": "code",
   "execution_count": 16,
   "metadata": {},
   "outputs": [
    {
     "name": "stdout",
     "output_type": "stream",
     "text": [
      "Determinan dari matrix A: 0.0\n",
      "Determinan dari matrix B: -6.0\n"
     ]
    }
   ],
   "source": [
    "# Nilai Determinan\n",
    "\n",
    "import numpy as np\n",
    "\n",
    "A = np.array([[0,8],[0,4]])\n",
    "B = np.array([[0,6],[1,6]])\n",
    "\n",
    "determinant_A = np.linalg.det(A)\n",
    "determinant_B = np.linalg.det(B)\n",
    "print(\"Determinan dari matrix A:\", determinant_A)\n",
    "print(\"Determinan dari matrix B:\", determinant_B)"
   ]
  }
 ],
 "metadata": {
  "kernelspec": {
   "display_name": "Python 3",
   "language": "python",
   "name": "python3"
  },
  "language_info": {
   "codemirror_mode": {
    "name": "ipython",
    "version": 3
   },
   "file_extension": ".py",
   "mimetype": "text/x-python",
   "name": "python",
   "nbconvert_exporter": "python",
   "pygments_lexer": "ipython3",
   "version": "3.12.2"
  }
 },
 "nbformat": 4,
 "nbformat_minor": 2
}
